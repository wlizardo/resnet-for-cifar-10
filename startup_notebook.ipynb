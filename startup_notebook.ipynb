{
 "cells": [
  {
   "metadata": {
    "colab": {
     "base_uri": "https://localhost:8080/"
    },
    "id": "946f84020d531044",
    "outputId": "5896c862-cb06-44ee-84c0-20517980bd1d",
    "ExecuteTime": {
     "end_time": "2024-04-12T04:04:31.366429Z",
     "start_time": "2024-04-12T04:04:31.354431Z"
    }
   },
   "cell_type": "code",
   "source": [
    "import torch\n",
    "print(f'PyTorch version: {torch.__version__}')\n",
    "\n",
    "#print('*'*10)\n",
    "#print(f'_CUDA version: ')\n",
    "#!nvcc --version\n",
    "#print('*'*10)\n",
    "#print(f'CUDNN version: {torch.backends.cudnn.version()}')\n",
    "#print(f'Available GPU devices: {torch.cuda.device_count()}')\n",
    "#print(f'Device Name: {torch.cuda.get_device_name()}')"
   ],
   "id": "946f84020d531044",
   "outputs": [
    {
     "name": "stdout",
     "output_type": "stream",
     "text": [
      "PyTorch version: 2.2.2\n"
     ]
    }
   ],
   "execution_count": 82
  },
  {
   "cell_type": "code",
   "source": [
    "import torch\n",
    "import torch.optim as optim\n",
    "import torch.nn as nn\n",
    "import torch.nn.functional as F\n",
    "from torch.utils.data import DataLoader\n",
    "\n",
    "import torchvision\n",
    "import torchvision.transforms as transforms\n",
    "\n",
    "import numpy as np\n",
    "\n",
    "import matplotlib.pyplot as plt\n",
    "\n",
    "device = 'cuda' if torch.cuda.is_available() else 'cpu'"
   ],
   "metadata": {
    "id": "FnaBqT3xSE3z",
    "ExecuteTime": {
     "end_time": "2024-04-12T04:04:31.442947Z",
     "start_time": "2024-04-12T04:04:31.427434Z"
    }
   },
   "id": "FnaBqT3xSE3z",
   "outputs": [],
   "execution_count": 83
  },
  {
   "cell_type": "markdown",
   "source": [
    "#### Load the complete CIFAR-10 dataset from https://www.cs.toronto.edu/~kriz/cifar-10-python.tar.gz"
   ],
   "metadata": {
    "id": "PaURG9isSMdA"
   },
   "id": "PaURG9isSMdA"
  },
  {
   "cell_type": "code",
   "source": [
    "transform_traindata = transforms.Compose([ transforms.RandomCrop(32, padding=4),\n",
    "    transforms.RandomHorizontalFlip(), transforms.ToTensor(),\n",
    "    transforms.Normalize((0.4914, 0.4822, 0.4465), (0.2023, 0.1994, 0.2010)), ])\n",
    "\n",
    "transform_testdata = transforms.Compose([ transforms.ToTensor(),\n",
    "    transforms.Normalize((0.4914, 0.4822, 0.4465), (0.2023, 0.1994, 0.2010)), ])"
   ],
   "metadata": {
    "id": "ufnC7DtQSPVb",
    "ExecuteTime": {
     "end_time": "2024-04-12T04:04:31.458955Z",
     "start_time": "2024-04-12T04:04:31.443949Z"
    }
   },
   "id": "ufnC7DtQSPVb",
   "outputs": [],
   "execution_count": 84
  },
  {
   "cell_type": "code",
   "source": [
    "# Loading the Complete CIFAR-10 dataset\n",
    "\n",
    "train_dataset = torchvision.datasets.CIFAR10(root='./data', train=True, download=True, transform=transform_traindata)\n",
    "train_dataloader = torch.utils.data.DataLoader(train_dataset, batch_size=128, shuffle=True, num_workers=2)\n",
    "\n",
    "test_dataset = torchvision.datasets.CIFAR10(root='./data', train=False, download=True, transform=transform_testdata)\n",
    "test_dataloader = torch.utils.data.DataLoader(test_dataset, batch_size=100, shuffle=False, num_workers=2)"
   ],
   "metadata": {
    "colab": {
     "base_uri": "https://localhost:8080/"
    },
    "id": "GFaBDSwgST_3",
    "outputId": "7cb75734-4ddf-434a-8339-ada90ff52c28",
    "ExecuteTime": {
     "end_time": "2024-04-12T04:04:32.535701Z",
     "start_time": "2024-04-12T04:04:31.459957Z"
    }
   },
   "id": "GFaBDSwgST_3",
   "outputs": [
    {
     "name": "stdout",
     "output_type": "stream",
     "text": [
      "Files already downloaded and verified\n",
      "Files already downloaded and verified\n"
     ]
    }
   ],
   "execution_count": 85
  },
  {
   "cell_type": "markdown",
   "source": [
    "## Analysing the datasets, and its Image data"
   ],
   "metadata": {
    "id": "h76-gbQi9eIG"
   },
   "id": "h76-gbQi9eIG"
  },
  {
   "cell_type": "code",
   "source": [
    "# Get the length of datasets\n",
    "print(len(train_dataset))\n",
    "print(len(test_dataset))"
   ],
   "metadata": {
    "colab": {
     "base_uri": "https://localhost:8080/"
    },
    "id": "Fl5JebIi839A",
    "outputId": "62bd74f2-32dd-4a96-988e-933280b6a60a",
    "ExecuteTime": {
     "end_time": "2024-04-12T04:04:32.551716Z",
     "start_time": "2024-04-12T04:04:32.536703Z"
    }
   },
   "id": "Fl5JebIi839A",
   "outputs": [
    {
     "name": "stdout",
     "output_type": "stream",
     "text": [
      "50000\n",
      "10000\n"
     ]
    }
   ],
   "execution_count": 86
  },
  {
   "cell_type": "code",
   "source": [
    "# Get first image,label from the dataset. Print its shape.\n",
    "image, label = train_dataset[0]\n",
    "print(image.shape, label)"
   ],
   "metadata": {
    "colab": {
     "base_uri": "https://localhost:8080/"
    },
    "id": "Ozw9zhlc9o_B",
    "outputId": "858b08f1-c9da-4778-c0fa-d2a1f04eeefd",
    "ExecuteTime": {
     "end_time": "2024-04-12T04:04:32.567726Z",
     "start_time": "2024-04-12T04:04:32.553717Z"
    }
   },
   "id": "Ozw9zhlc9o_B",
   "outputs": [
    {
     "name": "stdout",
     "output_type": "stream",
     "text": [
      "torch.Size([3, 32, 32]) 6\n"
     ]
    }
   ],
   "execution_count": 87
  },
  {
   "cell_type": "markdown",
   "source": [
    "## Create a Model to establish a Basic Resnet Model"
   ],
   "metadata": {
    "id": "k4bowr45SYIY"
   },
   "id": "k4bowr45SYIY"
  },
  {
   "metadata": {
    "id": "a9d62778b85fe6d4",
    "ExecuteTime": {
     "end_time": "2024-04-12T04:04:32.583729Z",
     "start_time": "2024-04-12T04:04:32.568729Z"
    }
   },
   "cell_type": "code",
   "source": [
    "class ResnetBasic(nn.Module):\n",
    "    expansion = 1\n",
    "\n",
    "    def __init__(self, in_planes, planes, stride=1):\n",
    "        super(ResnetBasic, self).__init__()\n",
    "        self.conv1 = nn.Conv2d(in_planes, planes, kernel_size=3, stride=stride, padding=1, bias=False)\n",
    "        self.bn1 = nn.BatchNorm2d(planes)\n",
    "        self.conv2 = nn.Conv2d(planes, planes, kernel_size=3, stride=1, padding=1, bias=False)\n",
    "        self.bn2 = nn.BatchNorm2d(planes)\n",
    "\n",
    "        self.shortcut = nn.Sequential()\n",
    "        if stride != 1 or in_planes != self.expansion*planes:\n",
    "            self.shortcut = nn.Sequential(\n",
    "                nn.Conv2d(in_planes, self.expansion*planes, kernel_size=1, stride=stride, bias=False),\n",
    "                nn.BatchNorm2d(self.expansion*planes)\n",
    "            )\n",
    "\n",
    "    def forward(self, x):\n",
    "        out = F.relu(self.bn1(self.conv1(x)))\n",
    "        out = self.bn2(self.conv2(out))\n",
    "        out += self.shortcut(x)\n",
    "        out = F.relu(out)\n",
    "        return out\n"
   ],
   "id": "a9d62778b85fe6d4",
   "outputs": [],
   "execution_count": 88
  },
  {
   "metadata": {
    "ExecuteTime": {
     "end_time": "2024-04-12T04:04:32.599728Z",
     "start_time": "2024-04-12T04:04:32.584728Z"
    }
   },
   "cell_type": "code",
   "source": [
    "class Bottleneck(nn.Module):\n",
    "    expansion = 4\n",
    "\n",
    "    def __init__(self, in_planes, planes, stride=1):\n",
    "        super(Bottleneck, self).__init__()\n",
    "        self.conv1 = nn.Conv2d(in_planes, planes, kernel_size=1, bias=False)\n",
    "        self.bn1 = nn.BatchNorm2d(planes)\n",
    "        self.conv2 = nn.Conv2d(planes, planes, kernel_size=3,\n",
    "                               stride=stride, padding=1, bias=False)\n",
    "        self.bn2 = nn.BatchNorm2d(planes)\n",
    "        self.conv3 = nn.Conv2d(planes, self.expansion *\n",
    "                               planes, kernel_size=1, bias=False)\n",
    "        self.bn3 = nn.BatchNorm2d(self.expansion*planes)\n",
    "\n",
    "        self.shortcut = nn.Sequential()\n",
    "        if stride != 1 or in_planes != self.expansion*planes:\n",
    "            self.shortcut = nn.Sequential(\n",
    "                nn.Conv2d(in_planes, self.expansion*planes,\n",
    "                          kernel_size=1, stride=stride, bias=False),\n",
    "                nn.BatchNorm2d(self.expansion*planes)\n",
    "            )\n",
    "\n",
    "    def forward(self, x):\n",
    "        out = F.relu(self.bn1(self.conv1(x)))\n",
    "        out = F.relu(self.bn2(self.conv2(out)))\n",
    "        out = self.bn3(self.conv3(out))\n",
    "        out += self.shortcut(x)\n",
    "        out = F.relu(out)\n",
    "        return out"
   ],
   "id": "fd35b08b88325f56",
   "outputs": [],
   "execution_count": 89
  },
  {
   "cell_type": "markdown",
   "source": [
    "## Create a Modified Resnet Model"
   ],
   "metadata": {
    "id": "AFJ06lnxFMqi"
   },
   "id": "AFJ06lnxFMqi"
  },
  {
   "cell_type": "code",
   "source": [
    "class ModifiedResNet(nn.Module):\n",
    "    def __init__(self, block, num_blocks, num_classes=10):\n",
    "        super(ModifiedResNet, self).__init__()\n",
    "        self.in_planes = 32\n",
    "\n",
    "        self.conv1 = nn.Conv2d(3, 32, kernel_size=3, stride=1, padding=1, bias=False)\n",
    "        self.bn1 = nn.BatchNorm2d(32)\n",
    "        self.layer1 = self._make_layer(block, 32, num_blocks[0], stride=1)\n",
    "        self.layer2 = self._make_layer(block, 64, num_blocks[1], stride=2)\n",
    "        self.layer3 = self._make_layer(block, 128, num_blocks[2], stride=2)\n",
    "        self.layer4 = self._make_layer(block, 256, num_blocks[3], stride=2)\n",
    "        self.linear = nn.Linear(256 * block.expansion, num_classes)\n",
    "\n",
    "    def _make_layer(self, block, planes, num_blocks, stride):\n",
    "        strides = [stride] + [1]*(num_blocks-1)\n",
    "        layers = []\n",
    "        for stride in strides:\n",
    "            layers.append(block(self.in_planes, planes, stride))\n",
    "            self.in_planes = planes * block.expansion\n",
    "        return nn.Sequential(*layers)\n",
    "\n",
    "    def forward(self, x):\n",
    "        out = F.relu(self.bn1(self.conv1(x)))\n",
    "        out = self.layer1(out)\n",
    "        out = self.layer2(out)\n",
    "        out = self.layer3(out)\n",
    "        out = self.layer4(out)\n",
    "        out = F.avg_pool2d(out, 4)\n",
    "        out = out.view(out.size(0), -1)\n",
    "        out = self.linear(out)\n",
    "        return out"
   ],
   "metadata": {
    "id": "PO9ce0hnE-lS",
    "ExecuteTime": {
     "end_time": "2024-04-12T04:04:32.615298Z",
     "start_time": "2024-04-12T04:04:32.600731Z"
    }
   },
   "id": "PO9ce0hnE-lS",
   "outputs": [],
   "execution_count": 90
  },
  {
   "cell_type": "code",
   "source": [
    "# Check number of parameters\n",
    "def count_parameters(model):\n",
    "    return sum(p.numel() for p in model.parameters() if p.requires_grad)\n",
    "\n",
    "# Create the model\n",
    "resNet18 = ModifiedResNet(ResnetBasic, [3,3,3,3])\n",
    "resNet50 = ModifiedResNet(Bottleneck, [3,5,6,2])"
   ],
   "metadata": {
    "id": "APIGqJC9FAY8",
    "ExecuteTime": {
     "end_time": "2024-04-12T04:04:32.676874Z",
     "start_time": "2024-04-12T04:04:32.616298Z"
    }
   },
   "id": "APIGqJC9FAY8",
   "outputs": [],
   "execution_count": 91
  },
  {
   "cell_type": "markdown",
   "source": [
    "## Display the Number of Parameters of the Modified Resnet Model"
   ],
   "metadata": {
    "id": "XIfHOAnyGTJS"
   },
   "id": "XIfHOAnyGTJS"
  },
  {
   "cell_type": "code",
   "source": [
    "# Total Parameters of the Basic Resnet Model\n",
    "print(f\"ResNet18 - Number of trainable parameters: {count_parameters(resNet18)}\")\n",
    "print(f\"ResNet50 - Number of trainable parameters: {count_parameters(resNet50)}\")"
   ],
   "metadata": {
    "colab": {
     "base_uri": "https://localhost:8080/"
    },
    "id": "VkR5iSkMSi5l",
    "outputId": "d1f056a6-898f-4658-b550-dd78fbca64a2",
    "ExecuteTime": {
     "end_time": "2024-04-12T04:04:32.691539Z",
     "start_time": "2024-04-12T04:04:32.677891Z"
    }
   },
   "id": "VkR5iSkMSi5l",
   "outputs": [
    {
     "name": "stdout",
     "output_type": "stream",
     "text": [
      "ResNet18 - Number of trainable parameters: 4366250\n",
      "ResNet50 - Number of trainable parameters: 4852266\n"
     ]
    }
   ],
   "execution_count": 92
  },
  {
   "metadata": {
    "colab": {
     "base_uri": "https://localhost:8080/"
    },
    "id": "c5fe3e4b2f225093",
    "outputId": "1ba74da3-6dd6-4d1f-fe3b-86eb3a7e330a",
    "ExecuteTime": {
     "end_time": "2024-04-12T04:04:32.706900Z",
     "start_time": "2024-04-12T04:04:32.692899Z"
    }
   },
   "cell_type": "code",
   "source": [
    "from torchsummary import summary\n",
    "summary(resNet18, input_size=(3, 32, 32))"
   ],
   "id": "c5fe3e4b2f225093",
   "outputs": [
    {
     "name": "stdout",
     "output_type": "stream",
     "text": [
      "=================================================================\n",
      "Layer (type:depth-idx)                   Param #\n",
      "=================================================================\n",
      "├─Conv2d: 1-1                            864\n",
      "├─BatchNorm2d: 1-2                       64\n",
      "├─Sequential: 1-3                        --\n",
      "|    └─ResnetBasic: 2-1                  --\n",
      "|    |    └─Conv2d: 3-1                  9,216\n",
      "|    |    └─BatchNorm2d: 3-2             64\n",
      "|    |    └─Conv2d: 3-3                  9,216\n",
      "|    |    └─BatchNorm2d: 3-4             64\n",
      "|    |    └─Sequential: 3-5              --\n",
      "|    └─ResnetBasic: 2-2                  --\n",
      "|    |    └─Conv2d: 3-6                  9,216\n",
      "|    |    └─BatchNorm2d: 3-7             64\n",
      "|    |    └─Conv2d: 3-8                  9,216\n",
      "|    |    └─BatchNorm2d: 3-9             64\n",
      "|    |    └─Sequential: 3-10             --\n",
      "|    └─ResnetBasic: 2-3                  --\n",
      "|    |    └─Conv2d: 3-11                 9,216\n",
      "|    |    └─BatchNorm2d: 3-12            64\n",
      "|    |    └─Conv2d: 3-13                 9,216\n",
      "|    |    └─BatchNorm2d: 3-14            64\n",
      "|    |    └─Sequential: 3-15             --\n",
      "├─Sequential: 1-4                        --\n",
      "|    └─ResnetBasic: 2-4                  --\n",
      "|    |    └─Conv2d: 3-16                 18,432\n",
      "|    |    └─BatchNorm2d: 3-17            128\n",
      "|    |    └─Conv2d: 3-18                 36,864\n",
      "|    |    └─BatchNorm2d: 3-19            128\n",
      "|    |    └─Sequential: 3-20             2,176\n",
      "|    └─ResnetBasic: 2-5                  --\n",
      "|    |    └─Conv2d: 3-21                 36,864\n",
      "|    |    └─BatchNorm2d: 3-22            128\n",
      "|    |    └─Conv2d: 3-23                 36,864\n",
      "|    |    └─BatchNorm2d: 3-24            128\n",
      "|    |    └─Sequential: 3-25             --\n",
      "|    └─ResnetBasic: 2-6                  --\n",
      "|    |    └─Conv2d: 3-26                 36,864\n",
      "|    |    └─BatchNorm2d: 3-27            128\n",
      "|    |    └─Conv2d: 3-28                 36,864\n",
      "|    |    └─BatchNorm2d: 3-29            128\n",
      "|    |    └─Sequential: 3-30             --\n",
      "├─Sequential: 1-5                        --\n",
      "|    └─ResnetBasic: 2-7                  --\n",
      "|    |    └─Conv2d: 3-31                 73,728\n",
      "|    |    └─BatchNorm2d: 3-32            256\n",
      "|    |    └─Conv2d: 3-33                 147,456\n",
      "|    |    └─BatchNorm2d: 3-34            256\n",
      "|    |    └─Sequential: 3-35             8,448\n",
      "|    └─ResnetBasic: 2-8                  --\n",
      "|    |    └─Conv2d: 3-36                 147,456\n",
      "|    |    └─BatchNorm2d: 3-37            256\n",
      "|    |    └─Conv2d: 3-38                 147,456\n",
      "|    |    └─BatchNorm2d: 3-39            256\n",
      "|    |    └─Sequential: 3-40             --\n",
      "|    └─ResnetBasic: 2-9                  --\n",
      "|    |    └─Conv2d: 3-41                 147,456\n",
      "|    |    └─BatchNorm2d: 3-42            256\n",
      "|    |    └─Conv2d: 3-43                 147,456\n",
      "|    |    └─BatchNorm2d: 3-44            256\n",
      "|    |    └─Sequential: 3-45             --\n",
      "├─Sequential: 1-6                        --\n",
      "|    └─ResnetBasic: 2-10                 --\n",
      "|    |    └─Conv2d: 3-46                 294,912\n",
      "|    |    └─BatchNorm2d: 3-47            512\n",
      "|    |    └─Conv2d: 3-48                 589,824\n",
      "|    |    └─BatchNorm2d: 3-49            512\n",
      "|    |    └─Sequential: 3-50             33,280\n",
      "|    └─ResnetBasic: 2-11                 --\n",
      "|    |    └─Conv2d: 3-51                 589,824\n",
      "|    |    └─BatchNorm2d: 3-52            512\n",
      "|    |    └─Conv2d: 3-53                 589,824\n",
      "|    |    └─BatchNorm2d: 3-54            512\n",
      "|    |    └─Sequential: 3-55             --\n",
      "|    └─ResnetBasic: 2-12                 --\n",
      "|    |    └─Conv2d: 3-56                 589,824\n",
      "|    |    └─BatchNorm2d: 3-57            512\n",
      "|    |    └─Conv2d: 3-58                 589,824\n",
      "|    |    └─BatchNorm2d: 3-59            512\n",
      "|    |    └─Sequential: 3-60             --\n",
      "├─Linear: 1-7                            2,570\n",
      "=================================================================\n",
      "Total params: 4,366,250\n",
      "Trainable params: 4,366,250\n",
      "Non-trainable params: 0\n",
      "=================================================================\n"
     ]
    },
    {
     "data": {
      "text/plain": [
       "=================================================================\n",
       "Layer (type:depth-idx)                   Param #\n",
       "=================================================================\n",
       "├─Conv2d: 1-1                            864\n",
       "├─BatchNorm2d: 1-2                       64\n",
       "├─Sequential: 1-3                        --\n",
       "|    └─ResnetBasic: 2-1                  --\n",
       "|    |    └─Conv2d: 3-1                  9,216\n",
       "|    |    └─BatchNorm2d: 3-2             64\n",
       "|    |    └─Conv2d: 3-3                  9,216\n",
       "|    |    └─BatchNorm2d: 3-4             64\n",
       "|    |    └─Sequential: 3-5              --\n",
       "|    └─ResnetBasic: 2-2                  --\n",
       "|    |    └─Conv2d: 3-6                  9,216\n",
       "|    |    └─BatchNorm2d: 3-7             64\n",
       "|    |    └─Conv2d: 3-8                  9,216\n",
       "|    |    └─BatchNorm2d: 3-9             64\n",
       "|    |    └─Sequential: 3-10             --\n",
       "|    └─ResnetBasic: 2-3                  --\n",
       "|    |    └─Conv2d: 3-11                 9,216\n",
       "|    |    └─BatchNorm2d: 3-12            64\n",
       "|    |    └─Conv2d: 3-13                 9,216\n",
       "|    |    └─BatchNorm2d: 3-14            64\n",
       "|    |    └─Sequential: 3-15             --\n",
       "├─Sequential: 1-4                        --\n",
       "|    └─ResnetBasic: 2-4                  --\n",
       "|    |    └─Conv2d: 3-16                 18,432\n",
       "|    |    └─BatchNorm2d: 3-17            128\n",
       "|    |    └─Conv2d: 3-18                 36,864\n",
       "|    |    └─BatchNorm2d: 3-19            128\n",
       "|    |    └─Sequential: 3-20             2,176\n",
       "|    └─ResnetBasic: 2-5                  --\n",
       "|    |    └─Conv2d: 3-21                 36,864\n",
       "|    |    └─BatchNorm2d: 3-22            128\n",
       "|    |    └─Conv2d: 3-23                 36,864\n",
       "|    |    └─BatchNorm2d: 3-24            128\n",
       "|    |    └─Sequential: 3-25             --\n",
       "|    └─ResnetBasic: 2-6                  --\n",
       "|    |    └─Conv2d: 3-26                 36,864\n",
       "|    |    └─BatchNorm2d: 3-27            128\n",
       "|    |    └─Conv2d: 3-28                 36,864\n",
       "|    |    └─BatchNorm2d: 3-29            128\n",
       "|    |    └─Sequential: 3-30             --\n",
       "├─Sequential: 1-5                        --\n",
       "|    └─ResnetBasic: 2-7                  --\n",
       "|    |    └─Conv2d: 3-31                 73,728\n",
       "|    |    └─BatchNorm2d: 3-32            256\n",
       "|    |    └─Conv2d: 3-33                 147,456\n",
       "|    |    └─BatchNorm2d: 3-34            256\n",
       "|    |    └─Sequential: 3-35             8,448\n",
       "|    └─ResnetBasic: 2-8                  --\n",
       "|    |    └─Conv2d: 3-36                 147,456\n",
       "|    |    └─BatchNorm2d: 3-37            256\n",
       "|    |    └─Conv2d: 3-38                 147,456\n",
       "|    |    └─BatchNorm2d: 3-39            256\n",
       "|    |    └─Sequential: 3-40             --\n",
       "|    └─ResnetBasic: 2-9                  --\n",
       "|    |    └─Conv2d: 3-41                 147,456\n",
       "|    |    └─BatchNorm2d: 3-42            256\n",
       "|    |    └─Conv2d: 3-43                 147,456\n",
       "|    |    └─BatchNorm2d: 3-44            256\n",
       "|    |    └─Sequential: 3-45             --\n",
       "├─Sequential: 1-6                        --\n",
       "|    └─ResnetBasic: 2-10                 --\n",
       "|    |    └─Conv2d: 3-46                 294,912\n",
       "|    |    └─BatchNorm2d: 3-47            512\n",
       "|    |    └─Conv2d: 3-48                 589,824\n",
       "|    |    └─BatchNorm2d: 3-49            512\n",
       "|    |    └─Sequential: 3-50             33,280\n",
       "|    └─ResnetBasic: 2-11                 --\n",
       "|    |    └─Conv2d: 3-51                 589,824\n",
       "|    |    └─BatchNorm2d: 3-52            512\n",
       "|    |    └─Conv2d: 3-53                 589,824\n",
       "|    |    └─BatchNorm2d: 3-54            512\n",
       "|    |    └─Sequential: 3-55             --\n",
       "|    └─ResnetBasic: 2-12                 --\n",
       "|    |    └─Conv2d: 3-56                 589,824\n",
       "|    |    └─BatchNorm2d: 3-57            512\n",
       "|    |    └─Conv2d: 3-58                 589,824\n",
       "|    |    └─BatchNorm2d: 3-59            512\n",
       "|    |    └─Sequential: 3-60             --\n",
       "├─Linear: 1-7                            2,570\n",
       "=================================================================\n",
       "Total params: 4,366,250\n",
       "Trainable params: 4,366,250\n",
       "Non-trainable params: 0\n",
       "================================================================="
      ]
     },
     "execution_count": 93,
     "metadata": {},
     "output_type": "execute_result"
    }
   ],
   "execution_count": 93
  },
  {
   "metadata": {
    "ExecuteTime": {
     "end_time": "2024-04-12T04:04:32.722336Z",
     "start_time": "2024-04-12T04:04:32.707900Z"
    }
   },
   "cell_type": "code",
   "source": [
    "from torchsummary import summary\n",
    "summary(resNet50, input_size=(3, 32, 32))"
   ],
   "id": "86eba1dcfe48beb7",
   "outputs": [
    {
     "name": "stdout",
     "output_type": "stream",
     "text": [
      "=================================================================\n",
      "Layer (type:depth-idx)                   Param #\n",
      "=================================================================\n",
      "├─Conv2d: 1-1                            864\n",
      "├─BatchNorm2d: 1-2                       64\n",
      "├─Sequential: 1-3                        --\n",
      "|    └─Bottleneck: 2-1                   --\n",
      "|    |    └─Conv2d: 3-1                  1,024\n",
      "|    |    └─BatchNorm2d: 3-2             64\n",
      "|    |    └─Conv2d: 3-3                  9,216\n",
      "|    |    └─BatchNorm2d: 3-4             64\n",
      "|    |    └─Conv2d: 3-5                  4,096\n",
      "|    |    └─BatchNorm2d: 3-6             256\n",
      "|    |    └─Sequential: 3-7              4,352\n",
      "|    └─Bottleneck: 2-2                   --\n",
      "|    |    └─Conv2d: 3-8                  4,096\n",
      "|    |    └─BatchNorm2d: 3-9             64\n",
      "|    |    └─Conv2d: 3-10                 9,216\n",
      "|    |    └─BatchNorm2d: 3-11            64\n",
      "|    |    └─Conv2d: 3-12                 4,096\n",
      "|    |    └─BatchNorm2d: 3-13            256\n",
      "|    |    └─Sequential: 3-14             --\n",
      "|    └─Bottleneck: 2-3                   --\n",
      "|    |    └─Conv2d: 3-15                 4,096\n",
      "|    |    └─BatchNorm2d: 3-16            64\n",
      "|    |    └─Conv2d: 3-17                 9,216\n",
      "|    |    └─BatchNorm2d: 3-18            64\n",
      "|    |    └─Conv2d: 3-19                 4,096\n",
      "|    |    └─BatchNorm2d: 3-20            256\n",
      "|    |    └─Sequential: 3-21             --\n",
      "├─Sequential: 1-4                        --\n",
      "|    └─Bottleneck: 2-4                   --\n",
      "|    |    └─Conv2d: 3-22                 8,192\n",
      "|    |    └─BatchNorm2d: 3-23            128\n",
      "|    |    └─Conv2d: 3-24                 36,864\n",
      "|    |    └─BatchNorm2d: 3-25            128\n",
      "|    |    └─Conv2d: 3-26                 16,384\n",
      "|    |    └─BatchNorm2d: 3-27            512\n",
      "|    |    └─Sequential: 3-28             33,280\n",
      "|    └─Bottleneck: 2-5                   --\n",
      "|    |    └─Conv2d: 3-29                 16,384\n",
      "|    |    └─BatchNorm2d: 3-30            128\n",
      "|    |    └─Conv2d: 3-31                 36,864\n",
      "|    |    └─BatchNorm2d: 3-32            128\n",
      "|    |    └─Conv2d: 3-33                 16,384\n",
      "|    |    └─BatchNorm2d: 3-34            512\n",
      "|    |    └─Sequential: 3-35             --\n",
      "|    └─Bottleneck: 2-6                   --\n",
      "|    |    └─Conv2d: 3-36                 16,384\n",
      "|    |    └─BatchNorm2d: 3-37            128\n",
      "|    |    └─Conv2d: 3-38                 36,864\n",
      "|    |    └─BatchNorm2d: 3-39            128\n",
      "|    |    └─Conv2d: 3-40                 16,384\n",
      "|    |    └─BatchNorm2d: 3-41            512\n",
      "|    |    └─Sequential: 3-42             --\n",
      "|    └─Bottleneck: 2-7                   --\n",
      "|    |    └─Conv2d: 3-43                 16,384\n",
      "|    |    └─BatchNorm2d: 3-44            128\n",
      "|    |    └─Conv2d: 3-45                 36,864\n",
      "|    |    └─BatchNorm2d: 3-46            128\n",
      "|    |    └─Conv2d: 3-47                 16,384\n",
      "|    |    └─BatchNorm2d: 3-48            512\n",
      "|    |    └─Sequential: 3-49             --\n",
      "|    └─Bottleneck: 2-8                   --\n",
      "|    |    └─Conv2d: 3-50                 16,384\n",
      "|    |    └─BatchNorm2d: 3-51            128\n",
      "|    |    └─Conv2d: 3-52                 36,864\n",
      "|    |    └─BatchNorm2d: 3-53            128\n",
      "|    |    └─Conv2d: 3-54                 16,384\n",
      "|    |    └─BatchNorm2d: 3-55            512\n",
      "|    |    └─Sequential: 3-56             --\n",
      "├─Sequential: 1-5                        --\n",
      "|    └─Bottleneck: 2-9                   --\n",
      "|    |    └─Conv2d: 3-57                 32,768\n",
      "|    |    └─BatchNorm2d: 3-58            256\n",
      "|    |    └─Conv2d: 3-59                 147,456\n",
      "|    |    └─BatchNorm2d: 3-60            256\n",
      "|    |    └─Conv2d: 3-61                 65,536\n",
      "|    |    └─BatchNorm2d: 3-62            1,024\n",
      "|    |    └─Sequential: 3-63             132,096\n",
      "|    └─Bottleneck: 2-10                  --\n",
      "|    |    └─Conv2d: 3-64                 65,536\n",
      "|    |    └─BatchNorm2d: 3-65            256\n",
      "|    |    └─Conv2d: 3-66                 147,456\n",
      "|    |    └─BatchNorm2d: 3-67            256\n",
      "|    |    └─Conv2d: 3-68                 65,536\n",
      "|    |    └─BatchNorm2d: 3-69            1,024\n",
      "|    |    └─Sequential: 3-70             --\n",
      "|    └─Bottleneck: 2-11                  --\n",
      "|    |    └─Conv2d: 3-71                 65,536\n",
      "|    |    └─BatchNorm2d: 3-72            256\n",
      "|    |    └─Conv2d: 3-73                 147,456\n",
      "|    |    └─BatchNorm2d: 3-74            256\n",
      "|    |    └─Conv2d: 3-75                 65,536\n",
      "|    |    └─BatchNorm2d: 3-76            1,024\n",
      "|    |    └─Sequential: 3-77             --\n",
      "|    └─Bottleneck: 2-12                  --\n",
      "|    |    └─Conv2d: 3-78                 65,536\n",
      "|    |    └─BatchNorm2d: 3-79            256\n",
      "|    |    └─Conv2d: 3-80                 147,456\n",
      "|    |    └─BatchNorm2d: 3-81            256\n",
      "|    |    └─Conv2d: 3-82                 65,536\n",
      "|    |    └─BatchNorm2d: 3-83            1,024\n",
      "|    |    └─Sequential: 3-84             --\n",
      "|    └─Bottleneck: 2-13                  --\n",
      "|    |    └─Conv2d: 3-85                 65,536\n",
      "|    |    └─BatchNorm2d: 3-86            256\n",
      "|    |    └─Conv2d: 3-87                 147,456\n",
      "|    |    └─BatchNorm2d: 3-88            256\n",
      "|    |    └─Conv2d: 3-89                 65,536\n",
      "|    |    └─BatchNorm2d: 3-90            1,024\n",
      "|    |    └─Sequential: 3-91             --\n",
      "|    └─Bottleneck: 2-14                  --\n",
      "|    |    └─Conv2d: 3-92                 65,536\n",
      "|    |    └─BatchNorm2d: 3-93            256\n",
      "|    |    └─Conv2d: 3-94                 147,456\n",
      "|    |    └─BatchNorm2d: 3-95            256\n",
      "|    |    └─Conv2d: 3-96                 65,536\n",
      "|    |    └─BatchNorm2d: 3-97            1,024\n",
      "|    |    └─Sequential: 3-98             --\n",
      "├─Sequential: 1-6                        --\n",
      "|    └─Bottleneck: 2-15                  --\n",
      "|    |    └─Conv2d: 3-99                 131,072\n",
      "|    |    └─BatchNorm2d: 3-100           512\n",
      "|    |    └─Conv2d: 3-101                589,824\n",
      "|    |    └─BatchNorm2d: 3-102           512\n",
      "|    |    └─Conv2d: 3-103                262,144\n",
      "|    |    └─BatchNorm2d: 3-104           2,048\n",
      "|    |    └─Sequential: 3-105            526,336\n",
      "|    └─Bottleneck: 2-16                  --\n",
      "|    |    └─Conv2d: 3-106                262,144\n",
      "|    |    └─BatchNorm2d: 3-107           512\n",
      "|    |    └─Conv2d: 3-108                589,824\n",
      "|    |    └─BatchNorm2d: 3-109           512\n",
      "|    |    └─Conv2d: 3-110                262,144\n",
      "|    |    └─BatchNorm2d: 3-111           2,048\n",
      "|    |    └─Sequential: 3-112            --\n",
      "├─Linear: 1-7                            10,250\n",
      "=================================================================\n",
      "Total params: 4,852,266\n",
      "Trainable params: 4,852,266\n",
      "Non-trainable params: 0\n",
      "=================================================================\n"
     ]
    },
    {
     "data": {
      "text/plain": [
       "=================================================================\n",
       "Layer (type:depth-idx)                   Param #\n",
       "=================================================================\n",
       "├─Conv2d: 1-1                            864\n",
       "├─BatchNorm2d: 1-2                       64\n",
       "├─Sequential: 1-3                        --\n",
       "|    └─Bottleneck: 2-1                   --\n",
       "|    |    └─Conv2d: 3-1                  1,024\n",
       "|    |    └─BatchNorm2d: 3-2             64\n",
       "|    |    └─Conv2d: 3-3                  9,216\n",
       "|    |    └─BatchNorm2d: 3-4             64\n",
       "|    |    └─Conv2d: 3-5                  4,096\n",
       "|    |    └─BatchNorm2d: 3-6             256\n",
       "|    |    └─Sequential: 3-7              4,352\n",
       "|    └─Bottleneck: 2-2                   --\n",
       "|    |    └─Conv2d: 3-8                  4,096\n",
       "|    |    └─BatchNorm2d: 3-9             64\n",
       "|    |    └─Conv2d: 3-10                 9,216\n",
       "|    |    └─BatchNorm2d: 3-11            64\n",
       "|    |    └─Conv2d: 3-12                 4,096\n",
       "|    |    └─BatchNorm2d: 3-13            256\n",
       "|    |    └─Sequential: 3-14             --\n",
       "|    └─Bottleneck: 2-3                   --\n",
       "|    |    └─Conv2d: 3-15                 4,096\n",
       "|    |    └─BatchNorm2d: 3-16            64\n",
       "|    |    └─Conv2d: 3-17                 9,216\n",
       "|    |    └─BatchNorm2d: 3-18            64\n",
       "|    |    └─Conv2d: 3-19                 4,096\n",
       "|    |    └─BatchNorm2d: 3-20            256\n",
       "|    |    └─Sequential: 3-21             --\n",
       "├─Sequential: 1-4                        --\n",
       "|    └─Bottleneck: 2-4                   --\n",
       "|    |    └─Conv2d: 3-22                 8,192\n",
       "|    |    └─BatchNorm2d: 3-23            128\n",
       "|    |    └─Conv2d: 3-24                 36,864\n",
       "|    |    └─BatchNorm2d: 3-25            128\n",
       "|    |    └─Conv2d: 3-26                 16,384\n",
       "|    |    └─BatchNorm2d: 3-27            512\n",
       "|    |    └─Sequential: 3-28             33,280\n",
       "|    └─Bottleneck: 2-5                   --\n",
       "|    |    └─Conv2d: 3-29                 16,384\n",
       "|    |    └─BatchNorm2d: 3-30            128\n",
       "|    |    └─Conv2d: 3-31                 36,864\n",
       "|    |    └─BatchNorm2d: 3-32            128\n",
       "|    |    └─Conv2d: 3-33                 16,384\n",
       "|    |    └─BatchNorm2d: 3-34            512\n",
       "|    |    └─Sequential: 3-35             --\n",
       "|    └─Bottleneck: 2-6                   --\n",
       "|    |    └─Conv2d: 3-36                 16,384\n",
       "|    |    └─BatchNorm2d: 3-37            128\n",
       "|    |    └─Conv2d: 3-38                 36,864\n",
       "|    |    └─BatchNorm2d: 3-39            128\n",
       "|    |    └─Conv2d: 3-40                 16,384\n",
       "|    |    └─BatchNorm2d: 3-41            512\n",
       "|    |    └─Sequential: 3-42             --\n",
       "|    └─Bottleneck: 2-7                   --\n",
       "|    |    └─Conv2d: 3-43                 16,384\n",
       "|    |    └─BatchNorm2d: 3-44            128\n",
       "|    |    └─Conv2d: 3-45                 36,864\n",
       "|    |    └─BatchNorm2d: 3-46            128\n",
       "|    |    └─Conv2d: 3-47                 16,384\n",
       "|    |    └─BatchNorm2d: 3-48            512\n",
       "|    |    └─Sequential: 3-49             --\n",
       "|    └─Bottleneck: 2-8                   --\n",
       "|    |    └─Conv2d: 3-50                 16,384\n",
       "|    |    └─BatchNorm2d: 3-51            128\n",
       "|    |    └─Conv2d: 3-52                 36,864\n",
       "|    |    └─BatchNorm2d: 3-53            128\n",
       "|    |    └─Conv2d: 3-54                 16,384\n",
       "|    |    └─BatchNorm2d: 3-55            512\n",
       "|    |    └─Sequential: 3-56             --\n",
       "├─Sequential: 1-5                        --\n",
       "|    └─Bottleneck: 2-9                   --\n",
       "|    |    └─Conv2d: 3-57                 32,768\n",
       "|    |    └─BatchNorm2d: 3-58            256\n",
       "|    |    └─Conv2d: 3-59                 147,456\n",
       "|    |    └─BatchNorm2d: 3-60            256\n",
       "|    |    └─Conv2d: 3-61                 65,536\n",
       "|    |    └─BatchNorm2d: 3-62            1,024\n",
       "|    |    └─Sequential: 3-63             132,096\n",
       "|    └─Bottleneck: 2-10                  --\n",
       "|    |    └─Conv2d: 3-64                 65,536\n",
       "|    |    └─BatchNorm2d: 3-65            256\n",
       "|    |    └─Conv2d: 3-66                 147,456\n",
       "|    |    └─BatchNorm2d: 3-67            256\n",
       "|    |    └─Conv2d: 3-68                 65,536\n",
       "|    |    └─BatchNorm2d: 3-69            1,024\n",
       "|    |    └─Sequential: 3-70             --\n",
       "|    └─Bottleneck: 2-11                  --\n",
       "|    |    └─Conv2d: 3-71                 65,536\n",
       "|    |    └─BatchNorm2d: 3-72            256\n",
       "|    |    └─Conv2d: 3-73                 147,456\n",
       "|    |    └─BatchNorm2d: 3-74            256\n",
       "|    |    └─Conv2d: 3-75                 65,536\n",
       "|    |    └─BatchNorm2d: 3-76            1,024\n",
       "|    |    └─Sequential: 3-77             --\n",
       "|    └─Bottleneck: 2-12                  --\n",
       "|    |    └─Conv2d: 3-78                 65,536\n",
       "|    |    └─BatchNorm2d: 3-79            256\n",
       "|    |    └─Conv2d: 3-80                 147,456\n",
       "|    |    └─BatchNorm2d: 3-81            256\n",
       "|    |    └─Conv2d: 3-82                 65,536\n",
       "|    |    └─BatchNorm2d: 3-83            1,024\n",
       "|    |    └─Sequential: 3-84             --\n",
       "|    └─Bottleneck: 2-13                  --\n",
       "|    |    └─Conv2d: 3-85                 65,536\n",
       "|    |    └─BatchNorm2d: 3-86            256\n",
       "|    |    └─Conv2d: 3-87                 147,456\n",
       "|    |    └─BatchNorm2d: 3-88            256\n",
       "|    |    └─Conv2d: 3-89                 65,536\n",
       "|    |    └─BatchNorm2d: 3-90            1,024\n",
       "|    |    └─Sequential: 3-91             --\n",
       "|    └─Bottleneck: 2-14                  --\n",
       "|    |    └─Conv2d: 3-92                 65,536\n",
       "|    |    └─BatchNorm2d: 3-93            256\n",
       "|    |    └─Conv2d: 3-94                 147,456\n",
       "|    |    └─BatchNorm2d: 3-95            256\n",
       "|    |    └─Conv2d: 3-96                 65,536\n",
       "|    |    └─BatchNorm2d: 3-97            1,024\n",
       "|    |    └─Sequential: 3-98             --\n",
       "├─Sequential: 1-6                        --\n",
       "|    └─Bottleneck: 2-15                  --\n",
       "|    |    └─Conv2d: 3-99                 131,072\n",
       "|    |    └─BatchNorm2d: 3-100           512\n",
       "|    |    └─Conv2d: 3-101                589,824\n",
       "|    |    └─BatchNorm2d: 3-102           512\n",
       "|    |    └─Conv2d: 3-103                262,144\n",
       "|    |    └─BatchNorm2d: 3-104           2,048\n",
       "|    |    └─Sequential: 3-105            526,336\n",
       "|    └─Bottleneck: 2-16                  --\n",
       "|    |    └─Conv2d: 3-106                262,144\n",
       "|    |    └─BatchNorm2d: 3-107           512\n",
       "|    |    └─Conv2d: 3-108                589,824\n",
       "|    |    └─BatchNorm2d: 3-109           512\n",
       "|    |    └─Conv2d: 3-110                262,144\n",
       "|    |    └─BatchNorm2d: 3-111           2,048\n",
       "|    |    └─Sequential: 3-112            --\n",
       "├─Linear: 1-7                            10,250\n",
       "=================================================================\n",
       "Total params: 4,852,266\n",
       "Trainable params: 4,852,266\n",
       "Non-trainable params: 0\n",
       "================================================================="
      ]
     },
     "execution_count": 94,
     "metadata": {},
     "output_type": "execute_result"
    }
   ],
   "execution_count": 94
  },
  {
   "cell_type": "markdown",
   "source": "#### Train method",
   "metadata": {
    "id": "q-RrQu02So3n"
   },
   "id": "q-RrQu02So3n"
  },
  {
   "cell_type": "code",
   "source": [
    "def train_model(model, train_dataloader, criterion, optimizer, epochs=10):\n",
    "    device = torch.device(\"cuda:0\" if torch.cuda.is_available() else \"cpu\")\n",
    "    model.to(device)\n",
    "    model.train()\n",
    "\n",
    "    # Initialize vars\n",
    "    train_loss_history = []\n",
    "    train_accuracy_history = []\n",
    "    for epoch in range(epochs):  # loop over the dataset multiple times\n",
    "        running_loss = 0.0\n",
    "        running_total = 0\n",
    "        running_correct = 0\n",
    "        for i, data in enumerate(train_dataloader, 0):\n",
    "            # get the inputs; data is a list of [inputs, labels]\n",
    "            inputs, labels = data[0].to(device), data[1].to(device)\n",
    "\n",
    "            # zero the parameter gradients\n",
    "            optimizer.zero_grad()\n",
    "\n",
    "            # forward + backward + optimize\n",
    "            outputs = model(inputs)\n",
    "            loss = criterion(outputs, labels)\n",
    "            loss.backward()\n",
    "            optimizer.step()\n",
    "\n",
    "            # capture running loss and accuracy\n",
    "            _, predicted = outputs.max(1)\n",
    "            running_loss += loss.item()\n",
    "            running_total += labels.size(0)\n",
    "            running_correct += predicted.eq(labels).sum().item()\n",
    "            \n",
    "        # Calculate train loss and accuracy, and store history data\n",
    "        train_loss_history += [running_loss/running_total]\n",
    "        train_accuracy_history += [100*running_correct/running_total]\n",
    "\n",
    "    #print('Final Training Accuracy is : %.3f' % (train_accuracy_history[len(train_accuracy_history)-1]))\n",
    "\n",
    "    # return these values for Plotting\n",
    "    return train_loss_history, train_accuracy_history"
   ],
   "metadata": {
    "id": "Kt8pkyiVSpwn",
    "ExecuteTime": {
     "end_time": "2024-04-12T04:04:32.737341Z",
     "start_time": "2024-04-12T04:04:32.723336Z"
    }
   },
   "id": "Kt8pkyiVSpwn",
   "outputs": [],
   "execution_count": 95
  },
  {
   "cell_type": "markdown",
   "source": "#### Evaluate Method",
   "metadata": {
    "id": "T7BVL-MpSqS5"
   },
   "id": "T7BVL-MpSqS5"
  },
  {
   "cell_type": "code",
   "source": [
    "def evaluate_model(model, test_dataloader):\n",
    "    device = torch.device(\"cuda:0\" if torch.cuda.is_available() else \"cpu\")\n",
    "    model.to(device)\n",
    "    model.eval()\n",
    "\n",
    "    # array vars\n",
    "    test_loss_history = []\n",
    "    test_accuracy_history = []\n",
    "\n",
    "    with torch.no_grad():\n",
    "        running_loss = 0.0        # Initialize the variable\n",
    "        running_total = 0\n",
    "        running_correct = 0\n",
    "        for data in test_dataloader:\n",
    "            images, labels = data[0].to(device), data[1].to(device)\n",
    "            outputs = model(images)\n",
    "\n",
    "            # Calculate loss\n",
    "            loss = criterion(outputs, labels)\n",
    "            \n",
    "            # capture running loss and accuracy\n",
    "            _, predicted = torch.max(outputs.data, 1)\n",
    "            running_loss += loss.item()\n",
    "            running_total += labels.size(0)\n",
    "            running_correct += predicted.eq(labels).sum().item()\n",
    "\n",
    "        # Calculate train loss and accuracy, and store history data\n",
    "        test_loss_history += [running_loss/running_total]\n",
    "        test_accuracy_history += [100*running_correct/running_total]\n",
    "\n",
    "    #print('Accuracy of the network on the 10000 test images: %d %%' % test_accuracy_history[len(test_accuracy_history)-1])\n",
    "\n",
    "    # return these values for Plotting\n",
    "    return test_loss_history, test_accuracy_history"
   ],
   "metadata": {
    "id": "UD3yv1PFSskP",
    "ExecuteTime": {
     "end_time": "2024-04-12T04:04:32.752854Z",
     "start_time": "2024-04-12T04:04:32.738848Z"
    }
   },
   "id": "UD3yv1PFSskP",
   "outputs": [],
   "execution_count": 96
  },
  {
   "metadata": {},
   "cell_type": "markdown",
   "source": "#### Train and Evaluate Models",
   "id": "4ceab5c67319e02"
  },
  {
   "metadata": {
    "ExecuteTime": {
     "end_time": "2024-04-12T04:04:32.768864Z",
     "start_time": "2024-04-12T04:04:32.753855Z"
    }
   },
   "cell_type": "code",
   "source": [
    "def train_and_eval(model,model_descriptor, train_dataloader, test_dataloader, optimizer, epochs):\n",
    "    # Use EPOCH_COUNT. \n",
    "    # Train the model. Store the return values to train_loss_hist, train_accuracy_hist for Plotting\n",
    "    #Evaluate the model. Store the return values to test_loss_hist, test_accuracy_hist for Plotting\n",
    "    train_loss_hist = {}\n",
    "    train_accuracy_hist = {}\n",
    "    test_loss_hist = {}\n",
    "    test_accuracy_hist = {}\n",
    "    for epoch in range(epochs):\n",
    "        train_loss_hist[epoch], train_accuracy_hist[epoch] = train_model(model, train_dataloader, criterion, optimizer, 1)\n",
    "        test_loss_hist[epoch], test_accuracy_hist[epoch] = evaluate_model(model, test_dataloader)\n",
    "    \n",
    "    train_loss = np.array(list(train_loss_hist.values())).squeeze()\n",
    "    test_loss = np.array(list(test_loss_hist.values())).squeeze()\n",
    "    train_accuracy = np.array(list(train_accuracy_hist.values())).squeeze()\n",
    "    test_accuracy = np.array(list(test_accuracy_hist.values())).squeeze()\n",
    "    \n",
    "    torch.save(model.state_dict(), f'{model_descriptor}.pt')\n",
    "    \n",
    "    return train_loss, train_accuracy, test_loss, test_accuracy\n",
    "    "
   ],
   "id": "ea112e4247de529d",
   "outputs": [],
   "execution_count": 97
  },
  {
   "metadata": {},
   "cell_type": "markdown",
   "source": "#### Plotting Graphs: Loss and Accuracy of the Train and Test data",
   "id": "3eJQUl1vStFL"
  },
  {
   "metadata": {
    "ExecuteTime": {
     "end_time": "2024-04-12T04:04:32.784866Z",
     "start_time": "2024-04-12T04:04:32.769866Z"
    }
   },
   "cell_type": "code",
   "source": [
    "# Plot the Train_Accuracy and Test_Accuracy history data\n",
    "def plot_loss_accuracy(train_loss, test_loss, train_accuracy, test_accuracy):\n",
    "    plt.plot(train_loss,'-', linewidth=3, label='Train loss')\n",
    "    plt.plot(test_loss,'-', linewidth=3, label='Test loss')\n",
    "    plt.title('Train vs Test loss')\n",
    "    plt.xlabel('Epoch')\n",
    "    plt.ylabel('Loss')\n",
    "    plt.grid(True)\n",
    "    plt.legend()\n",
    "    plt.show()\n",
    "    \n",
    "    plt.plot(test_accuracy,'-', linewidth=3, label='Test accuracy')\n",
    "    plt.plot(train_accuracy,'-', linewidth=3, label='Train accuracy')\n",
    "    plt.title('Train Accuracy vs Test Accuracy ')\n",
    "    plt.xlabel('Epoch')\n",
    "    plt.ylabel('Loss')\n",
    "    plt.grid(True)\n",
    "    plt.legend()\n",
    "    plt.show()"
   ],
   "id": "qd4bDDw68ekX",
   "outputs": [],
   "execution_count": 98
  },
  {
   "metadata": {
    "ExecuteTime": {
     "end_time": "2024-04-12T04:04:32.799867Z",
     "start_time": "2024-04-12T04:04:32.785865Z"
    }
   },
   "cell_type": "code",
   "source": [
    "# Variables required for Plotting\n",
    "EPOCH_COUNT = 100\n",
    "criterion = nn.CrossEntropyLoss()\n",
    "#optimizer = optim.AdamW(resNet18.parameters(), lr=1e-3, weight_decay=1e-4)\n",
    "resNet18_optimizer = optim.SGD(resNet18.parameters(), lr=0.01, momentum=0.9)\n",
    "resNet50_optimizer = optim.SGD(resNet50.parameters(), lr=0.01, momentum=0.9)\n",
    "#scheduler = optim.lr_scheduler.CosineAnnealingLR(optimizer, T_max=100)"
   ],
   "id": "8vi_pWVS3tiA",
   "outputs": [],
   "execution_count": 99
  },
  {
   "metadata": {
    "ExecuteTime": {
     "end_time": "2024-04-12T04:37:22.654672Z",
     "start_time": "2024-04-12T04:04:32.800867Z"
    }
   },
   "cell_type": "code",
   "source": [
    "train_loss, train_accuracy, test_loss, test_accuracy = train_and_eval(resNet18,'resnet18', train_dataloader, test_dataloader, resNet18_optimizer, EPOCH_COUNT)\n",
    "plot_loss_accuracy(train_loss, test_loss, train_accuracy, test_accuracy)"
   ],
   "id": "2f9006b83d77048f",
   "outputs": [
    {
     "data": {
      "text/plain": [
       "<Figure size 640x480 with 1 Axes>"
      ],
      "image/png": "[encoded data removed]"
     },
     "metadata": {},
     "output_type": "display_data"
    },
    {
     "data": {
      "text/plain": [
       "<Figure size 640x480 with 1 Axes>"
      ],
      "image/png": "[encoded data removed]"
     },
     "metadata": {},
     "output_type": "display_data"
    }
   ],
   "execution_count": 100
  },
  {
   "metadata": {
    "ExecuteTime": {
     "end_time": "2024-04-12T05:26:47.274825Z",
     "start_time": "2024-04-12T04:37:22.655672Z"
    }
   },
   "cell_type": "code",
   "source": [
    "train_loss, train_accuracy, test_loss, test_accuracy = train_and_eval(resNet50,'resnet50', train_dataloader, test_dataloader, resNet50_optimizer, EPOCH_COUNT)\n",
    "plot_loss_accuracy(train_loss, test_loss, train_accuracy, test_accuracy)"
   ],
   "id": "d2f88eec53415a18",
   "outputs": [
    {
     "data": {
      "text/plain": [
       "<Figure size 640x480 with 1 Axes>"
      ],
      "image/png": "[encoded data removed]"
     },
     "metadata": {},
     "output_type": "display_data"
    },
    {
     "data": {
      "text/plain": [
       "<Figure size 640x480 with 1 Axes>"
      ],
      "image/png": "[encoded data removed]"
     },
     "metadata": {},
     "output_type": "display_data"
    }
   ],
   "execution_count": 101
  },
  {
   "metadata": {},
   "cell_type": "markdown",
   "source": "#### Kaggle submission",
   "id": "9ea1737d1a17338b"
  },
  {
   "metadata": {
    "ExecuteTime": {
     "end_time": "2024-04-12T05:26:47.290143Z",
     "start_time": "2024-04-12T05:26:47.275824Z"
    }
   },
   "cell_type": "code",
   "source": [
    "transform_nolabel_data = transforms.Compose([ transforms.ToTensor(),\n",
    "    transforms.Normalize((0.4914, 0.4822, 0.4465), (0.2023, 0.1994, 0.2010)), ])\n",
    "\n",
    "model = resNet18"
   ],
   "id": "d42298afec91861a",
   "outputs": [],
   "execution_count": 102
  },
  {
   "metadata": {
    "ExecuteTime": {
     "end_time": "2024-04-12T05:26:47.306156Z",
     "start_time": "2024-04-12T05:26:47.291160Z"
    }
   },
   "cell_type": "code",
   "source": [
    "import csv\n",
    "\n",
    "def generate_submission_csv(model, cifar_nolabels):\n",
    "    device = torch.device(\"cuda:0\" if torch.cuda.is_available() else \"cpu\")\n",
    "    model.to(device)\n",
    "    model.eval()\n",
    "    with torch.no_grad():\n",
    "        images = cifar_nolabels[b'data'].reshape((-1, 3, 32, 32))\n",
    "        images = np.transpose(images, (0,2,3,1))\n",
    "        img_tensor = torch.stack([transform_nolabel_data(img) for img in images]).float().to(device)\n",
    "        outputs = model(img_tensor)\n",
    "        _, predicted = torch.max(outputs.data, 1)\n",
    "\n",
    "    predTuple = list(zip(cifar_nolabels[b'ids'],predicted.cpu().numpy()))\n",
    "\n",
    "    with open('predictions.csv','w',newline='') as out:\n",
    "        csv_out=csv.writer(out)\n",
    "        csv_out.writerow(['ID','Labels'])\n",
    "        csv_out.writerows(predTuple)\n"
   ],
   "id": "1ceaf12002482624",
   "outputs": [],
   "execution_count": 103
  },
  {
   "metadata": {
    "ExecuteTime": {
     "end_time": "2024-04-12T05:26:49.056982Z",
     "start_time": "2024-04-12T05:26:47.307161Z"
    }
   },
   "cell_type": "code",
   "source": [
    "import pickle\n",
    "def load_cifar_batch(file):\n",
    "    with open(file, 'rb') as fo:\n",
    "        dict = pickle.load(fo, encoding='bytes')\n",
    "    return dict\n",
    "\n",
    "cifar_nolabels = load_cifar_batch('./data/cifar_test_nolabels.pkl')\n",
    "generate_submission_csv(model, cifar_nolabels)"
   ],
   "id": "493a365149f6d729",
   "outputs": [],
   "execution_count": 104
  },
  {
   "cell_type": "markdown",
   "source": [
    "\n",
    "##### References: Lecture Notes, Resnet model from github of kuangliu"
   ],
   "metadata": {
    "id": "ajT7XXgv8kw8"
   },
   "id": "ajT7XXgv8kw8"
  }
 ],
 "metadata": {
  "kaggle": {
   "accelerator": "none",
   "dataSources": [
    {
     "databundleVersionId": 8088488,
     "sourceId": 73233,
     "sourceType": "competition"
    }
   ],
   "dockerImageVersionId": 30673,
   "isGpuEnabled": false,
   "isInternetEnabled": true,
   "language": "python",
   "sourceType": "notebook"
  },
  "kernelspec": {
   "display_name": "Python 3 (ipykernel)",
   "name": "python3",
   "language": "python"
  },
  "language_info": {
   "codemirror_mode": {
    "name": "ipython",
    "version": 3
   },
   "file_extension": ".py",
   "mimetype": "text/x-python",
   "name": "python",
   "nbconvert_exporter": "python",
   "pygments_lexer": "ipython3",
   "version": "3.10.13"
  },
  "papermill": {
   "default_parameters": {},
   "duration": 8.271458,
   "end_time": "2024-03-30T01:00:39.910637",
   "environment_variables": {},
   "exception": null,
   "input_path": "__notebook__.ipynb",
   "output_path": "__notebook__.ipynb",
   "parameters": {},
   "start_time": "2024-03-30T01:00:31.639179",
   "version": "2.5.0"
  },
  "colab": {
   "provenance": [],
   "gpuType": "T4"
  },
  "accelerator": "GPU"
 },
 "nbformat": 4,
 "nbformat_minor": 5
}
