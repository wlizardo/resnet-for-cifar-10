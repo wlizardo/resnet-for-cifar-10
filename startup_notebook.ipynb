{
 "cells": [
  {
   "metadata": {
    "ExecuteTime": {
     "end_time": "2024-04-11T17:55:10.458231Z",
     "start_time": "2024-04-11T17:55:10.411839Z"
    }
   },
   "cell_type": "code",
   "source": [
    "import torch\n",
    "print(f'PyTorch version: {torch.__version__}')\n",
    "print('*'*10)\n",
    "print(f'_CUDA version: ')\n",
    "!nvcc --version\n",
    "print('*'*10)\n",
    "print(f'CUDNN version: {torch.backends.cudnn.version()}')\n",
    "print(f'Available GPU devices: {torch.cuda.device_count()}')\n",
    "print(f'Device Name: {torch.cuda.get_device_name()}')"
   ],
   "id": "946f84020d531044",
   "outputs": [
    {
     "name": "stdout",
     "output_type": "stream",
     "text": [
      "PyTorch version: 2.2.2\n",
      "**********\n",
      "_CUDA version: \n",
      "nvcc: NVIDIA (R) Cuda compiler driver\n",
      "Copyright (c) 2005-2024 NVIDIA Corporation\n",
      "Built on Tue_Feb_27_16:28:36_Pacific_Standard_Time_2024\n",
      "Cuda compilation tools, release 12.4, V12.4.99\n",
      "Build cuda_12.4.r12.4/compiler.33961263_0\n",
      "**********\n",
      "CUDNN version: 8801\n",
      "Available GPU devices: 1\n",
      "Device Name: NVIDIA GeForce RTX 3080\n"
     ]
    }
   ],
   "execution_count": 12
  },
  {
   "cell_type": "code",
   "source": [
    "import torch\n",
    "import torch.optim as optim\n",
    "import torch.nn as nn\n",
    "import torch.nn.functional as F\n",
    "from torch.utils.data import DataLoader\n",
    "\n",
    "import torchvision\n",
    "import torchvision.transforms as transforms\n",
    "\n",
    "import numpy as np\n",
    "\n",
    "import matplotlib.pyplot as plt\n",
    "\n",
    "device = 'cuda' if torch.cuda.is_available() else 'cpu'"
   ],
   "metadata": {
    "id": "FnaBqT3xSE3z",
    "ExecuteTime": {
     "end_time": "2024-04-11T17:55:10.506244Z",
     "start_time": "2024-04-11T17:55:10.496245Z"
    }
   },
   "id": "FnaBqT3xSE3z",
   "outputs": [],
   "execution_count": 13
  },
  {
   "cell_type": "markdown",
   "source": [
    "#### Load the complete CIFAR-10 dataset from https://www.cs.toronto.edu/~kriz/cifar-10-python.tar.gz"
   ],
   "metadata": {
    "id": "PaURG9isSMdA"
   },
   "id": "PaURG9isSMdA"
  },
  {
   "cell_type": "code",
   "source": [
    "transform_traindata = transforms.Compose([ transforms.RandomCrop(32, padding=4),\n",
    "    transforms.RandomHorizontalFlip(), transforms.ToTensor(),\n",
    "    transforms.Normalize((0.4914, 0.4822, 0.4465), (0.2023, 0.1994, 0.2010)), ])\n",
    "\n",
    "transform_testdata = transforms.Compose([ transforms.ToTensor(),\n",
    "    transforms.Normalize((0.4914, 0.4822, 0.4465), (0.2023, 0.1994, 0.2010)), ])"
   ],
   "metadata": {
    "id": "ufnC7DtQSPVb",
    "ExecuteTime": {
     "end_time": "2024-04-11T17:55:10.537760Z",
     "start_time": "2024-04-11T17:55:10.523250Z"
    }
   },
   "id": "ufnC7DtQSPVb",
   "outputs": [],
   "execution_count": 14
  },
  {
   "cell_type": "code",
   "source": [
    "# Loading the Complete CIFAR-10 dataset\n",
    "\n",
    "train_dataset = torchvision.datasets.CIFAR10(root='./data', train=True, download=True, transform=transform_traindata)\n",
    "train_dataloader = torch.utils.data.DataLoader(train_dataset, batch_size=128, shuffle=True, num_workers=2)\n",
    "\n",
    "test_dataset = torchvision.datasets.CIFAR10(root='./data', train=False, download=True, transform=transform_testdata)\n",
    "test_dataloader = torch.utils.data.DataLoader(test_dataset, batch_size=100, shuffle=False, num_workers=2)"
   ],
   "metadata": {
    "colab": {
     "base_uri": "https://localhost:8080/"
    },
    "id": "GFaBDSwgST_3",
    "outputId": "0164262b-15c5-49dd-c2f4-3d2882e76575",
    "ExecuteTime": {
     "end_time": "2024-04-11T17:55:11.586935Z",
     "start_time": "2024-04-11T17:55:10.539761Z"
    }
   },
   "id": "GFaBDSwgST_3",
   "outputs": [
    {
     "name": "stdout",
     "output_type": "stream",
     "text": [
      "Files already downloaded and verified\n",
      "Files already downloaded and verified\n"
     ]
    }
   ],
   "execution_count": 15
  },
  {
   "cell_type": "markdown",
   "source": [
    "#### Create a Model to establish a BasicBlock of Resnet"
   ],
   "metadata": {
    "id": "k4bowr45SYIY"
   },
   "id": "k4bowr45SYIY"
  },
  {
   "metadata": {
    "ExecuteTime": {
     "end_time": "2024-04-11T17:55:11.618495Z",
     "start_time": "2024-04-11T17:55:11.587936Z"
    }
   },
   "cell_type": "code",
   "source": [
    "class BasicBlock(nn.Module):\n",
    "    expansion = 1\n",
    "\n",
    "    def __init__(self, in_planes, planes, stride=1):\n",
    "        super(BasicBlock, self).__init__()\n",
    "        self.conv1 = nn.Conv2d(in_planes, planes, kernel_size=3, stride=stride, padding=1, bias=False)\n",
    "        self.bn1 = nn.BatchNorm2d(planes)\n",
    "        self.conv2 = nn.Conv2d(planes, planes, kernel_size=3, stride=1, padding=1, bias=False)\n",
    "        self.bn2 = nn.BatchNorm2d(planes)\n",
    "\n",
    "        self.shortcut = nn.Sequential()\n",
    "        if stride != 1 or in_planes != self.expansion*planes:\n",
    "            self.shortcut = nn.Sequential(\n",
    "                nn.Conv2d(in_planes, self.expansion*planes, kernel_size=1, stride=stride, bias=False),\n",
    "                nn.BatchNorm2d(self.expansion*planes)\n",
    "            )\n",
    "\n",
    "    def forward(self, x):\n",
    "        out = F.relu(self.bn1(self.conv1(x)))\n",
    "        out = self.bn2(self.conv2(out))\n",
    "        out += self.shortcut(x)\n",
    "        out = F.relu(out)\n",
    "        return out\n",
    "\n",
    "class ResNet(nn.Module):\n",
    "    def __init__(self, block, num_blocks, num_classes=10):\n",
    "        super(ResNet, self).__init__()\n",
    "        self.in_planes = 32\n",
    "\n",
    "        self.conv1 = nn.Conv2d(3, 32, kernel_size=3, stride=1, padding=1, bias=False)\n",
    "        self.bn1 = nn.BatchNorm2d(32)\n",
    "        self.layer1 = self._make_layer(block, 32, num_blocks[0], stride=1)\n",
    "        self.layer2 = self._make_layer(block, 64, num_blocks[1], stride=2)\n",
    "        self.layer3 = self._make_layer(block, 128, num_blocks[2], stride=2)\n",
    "        self.layer4 = self._make_layer(block, 256, num_blocks[3], stride=2)\n",
    "        self.linear = nn.Linear(256 * block.expansion, num_classes)\n",
    "\n",
    "    def _make_layer(self, block, planes, num_blocks, stride):\n",
    "        strides = [stride] + [1]*(num_blocks-1)\n",
    "        layers = []\n",
    "        for stride in strides:\n",
    "            layers.append(block(self.in_planes, planes, stride))\n",
    "            self.in_planes = planes * block.expansion\n",
    "        return nn.Sequential(*layers)\n",
    "\n",
    "    def forward(self, x):\n",
    "        out = F.relu(self.bn1(self.conv1(x)))\n",
    "        out = self.layer1(out)\n",
    "        out = self.layer2(out)\n",
    "        out = self.layer3(out)\n",
    "        out = self.layer4(out)\n",
    "        out = F.avg_pool2d(out, 4)\n",
    "        out = out.view(out.size(0), -1)\n",
    "        out = self.linear(out)\n",
    "        return out\n",
    "\n",
    "def ResNet18():\n",
    "    return ResNet(BasicBlock, [3,3,3,3])\n",
    "\n",
    "# Check number of parameters\n",
    "def count_parameters(model):\n",
    "    return sum(p.numel() for p in model.parameters() if p.requires_grad)\n",
    "\n",
    "# Create the model\n",
    "model = ResNet18()"
   ],
   "id": "a9d62778b85fe6d4",
   "outputs": [],
   "execution_count": 16
  },
  {
   "cell_type": "code",
   "source": [
    "criterion = nn.CrossEntropyLoss()\n",
    "#optimizer = optim.AdamW(model.parameters(), lr=1e-3, weight_decay=1e-4)\n",
    "optimizer = optim.SGD(model.parameters(), lr=0.01, momentum=0.9)\n",
    "#scheduler = optim.lr_scheduler.CosineAnnealingLR(optimizer, T_max=100)\n",
    "\n",
    "# Total Parameters of the Basic Resnet Model\n",
    "num_params = sum(p.numel() for p in model.parameters() )\n",
    "print(f\"Number of trainable parameters: {count_parameters(model)}\")"
   ],
   "metadata": {
    "colab": {
     "base_uri": "https://localhost:8080/"
    },
    "id": "VkR5iSkMSi5l",
    "outputId": "0382cd42-e770-405d-e685-979ef70b4e2b",
    "ExecuteTime": {
     "end_time": "2024-04-11T17:55:11.634503Z",
     "start_time": "2024-04-11T17:55:11.619499Z"
    }
   },
   "id": "VkR5iSkMSi5l",
   "outputs": [
    {
     "name": "stdout",
     "output_type": "stream",
     "text": [
      "Number of trainable parameters: 4366250\n"
     ]
    }
   ],
   "execution_count": 17
  },
  {
   "metadata": {
    "ExecuteTime": {
     "end_time": "2024-04-11T17:55:11.650016Z",
     "start_time": "2024-04-11T17:55:11.636009Z"
    }
   },
   "cell_type": "code",
   "source": [
    "from torchsummary import summary\n",
    "summary(model, input_size=(3, 32, 32))"
   ],
   "id": "c5fe3e4b2f225093",
   "outputs": [
    {
     "name": "stdout",
     "output_type": "stream",
     "text": [
      "=================================================================\n",
      "Layer (type:depth-idx)                   Param #\n",
      "=================================================================\n",
      "├─Conv2d: 1-1                            864\n",
      "├─BatchNorm2d: 1-2                       64\n",
      "├─Sequential: 1-3                        --\n",
      "|    └─BasicBlock: 2-1                   --\n",
      "|    |    └─Conv2d: 3-1                  9,216\n",
      "|    |    └─BatchNorm2d: 3-2             64\n",
      "|    |    └─Conv2d: 3-3                  9,216\n",
      "|    |    └─BatchNorm2d: 3-4             64\n",
      "|    |    └─Sequential: 3-5              --\n",
      "|    └─BasicBlock: 2-2                   --\n",
      "|    |    └─Conv2d: 3-6                  9,216\n",
      "|    |    └─BatchNorm2d: 3-7             64\n",
      "|    |    └─Conv2d: 3-8                  9,216\n",
      "|    |    └─BatchNorm2d: 3-9             64\n",
      "|    |    └─Sequential: 3-10             --\n",
      "|    └─BasicBlock: 2-3                   --\n",
      "|    |    └─Conv2d: 3-11                 9,216\n",
      "|    |    └─BatchNorm2d: 3-12            64\n",
      "|    |    └─Conv2d: 3-13                 9,216\n",
      "|    |    └─BatchNorm2d: 3-14            64\n",
      "|    |    └─Sequential: 3-15             --\n",
      "├─Sequential: 1-4                        --\n",
      "|    └─BasicBlock: 2-4                   --\n",
      "|    |    └─Conv2d: 3-16                 18,432\n",
      "|    |    └─BatchNorm2d: 3-17            128\n",
      "|    |    └─Conv2d: 3-18                 36,864\n",
      "|    |    └─BatchNorm2d: 3-19            128\n",
      "|    |    └─Sequential: 3-20             2,176\n",
      "|    └─BasicBlock: 2-5                   --\n",
      "|    |    └─Conv2d: 3-21                 36,864\n",
      "|    |    └─BatchNorm2d: 3-22            128\n",
      "|    |    └─Conv2d: 3-23                 36,864\n",
      "|    |    └─BatchNorm2d: 3-24            128\n",
      "|    |    └─Sequential: 3-25             --\n",
      "|    └─BasicBlock: 2-6                   --\n",
      "|    |    └─Conv2d: 3-26                 36,864\n",
      "|    |    └─BatchNorm2d: 3-27            128\n",
      "|    |    └─Conv2d: 3-28                 36,864\n",
      "|    |    └─BatchNorm2d: 3-29            128\n",
      "|    |    └─Sequential: 3-30             --\n",
      "├─Sequential: 1-5                        --\n",
      "|    └─BasicBlock: 2-7                   --\n",
      "|    |    └─Conv2d: 3-31                 73,728\n",
      "|    |    └─BatchNorm2d: 3-32            256\n",
      "|    |    └─Conv2d: 3-33                 147,456\n",
      "|    |    └─BatchNorm2d: 3-34            256\n",
      "|    |    └─Sequential: 3-35             8,448\n",
      "|    └─BasicBlock: 2-8                   --\n",
      "|    |    └─Conv2d: 3-36                 147,456\n",
      "|    |    └─BatchNorm2d: 3-37            256\n",
      "|    |    └─Conv2d: 3-38                 147,456\n",
      "|    |    └─BatchNorm2d: 3-39            256\n",
      "|    |    └─Sequential: 3-40             --\n",
      "|    └─BasicBlock: 2-9                   --\n",
      "|    |    └─Conv2d: 3-41                 147,456\n",
      "|    |    └─BatchNorm2d: 3-42            256\n",
      "|    |    └─Conv2d: 3-43                 147,456\n",
      "|    |    └─BatchNorm2d: 3-44            256\n",
      "|    |    └─Sequential: 3-45             --\n",
      "├─Sequential: 1-6                        --\n",
      "|    └─BasicBlock: 2-10                  --\n",
      "|    |    └─Conv2d: 3-46                 294,912\n",
      "|    |    └─BatchNorm2d: 3-47            512\n",
      "|    |    └─Conv2d: 3-48                 589,824\n",
      "|    |    └─BatchNorm2d: 3-49            512\n",
      "|    |    └─Sequential: 3-50             33,280\n",
      "|    └─BasicBlock: 2-11                  --\n",
      "|    |    └─Conv2d: 3-51                 589,824\n",
      "|    |    └─BatchNorm2d: 3-52            512\n",
      "|    |    └─Conv2d: 3-53                 589,824\n",
      "|    |    └─BatchNorm2d: 3-54            512\n",
      "|    |    └─Sequential: 3-55             --\n",
      "|    └─BasicBlock: 2-12                  --\n",
      "|    |    └─Conv2d: 3-56                 589,824\n",
      "|    |    └─BatchNorm2d: 3-57            512\n",
      "|    |    └─Conv2d: 3-58                 589,824\n",
      "|    |    └─BatchNorm2d: 3-59            512\n",
      "|    |    └─Sequential: 3-60             --\n",
      "├─Linear: 1-7                            2,570\n",
      "=================================================================\n",
      "Total params: 4,366,250\n",
      "Trainable params: 4,366,250\n",
      "Non-trainable params: 0\n",
      "=================================================================\n"
     ]
    },
    {
     "data": {
      "text/plain": [
       "=================================================================\n",
       "Layer (type:depth-idx)                   Param #\n",
       "=================================================================\n",
       "├─Conv2d: 1-1                            864\n",
       "├─BatchNorm2d: 1-2                       64\n",
       "├─Sequential: 1-3                        --\n",
       "|    └─BasicBlock: 2-1                   --\n",
       "|    |    └─Conv2d: 3-1                  9,216\n",
       "|    |    └─BatchNorm2d: 3-2             64\n",
       "|    |    └─Conv2d: 3-3                  9,216\n",
       "|    |    └─BatchNorm2d: 3-4             64\n",
       "|    |    └─Sequential: 3-5              --\n",
       "|    └─BasicBlock: 2-2                   --\n",
       "|    |    └─Conv2d: 3-6                  9,216\n",
       "|    |    └─BatchNorm2d: 3-7             64\n",
       "|    |    └─Conv2d: 3-8                  9,216\n",
       "|    |    └─BatchNorm2d: 3-9             64\n",
       "|    |    └─Sequential: 3-10             --\n",
       "|    └─BasicBlock: 2-3                   --\n",
       "|    |    └─Conv2d: 3-11                 9,216\n",
       "|    |    └─BatchNorm2d: 3-12            64\n",
       "|    |    └─Conv2d: 3-13                 9,216\n",
       "|    |    └─BatchNorm2d: 3-14            64\n",
       "|    |    └─Sequential: 3-15             --\n",
       "├─Sequential: 1-4                        --\n",
       "|    └─BasicBlock: 2-4                   --\n",
       "|    |    └─Conv2d: 3-16                 18,432\n",
       "|    |    └─BatchNorm2d: 3-17            128\n",
       "|    |    └─Conv2d: 3-18                 36,864\n",
       "|    |    └─BatchNorm2d: 3-19            128\n",
       "|    |    └─Sequential: 3-20             2,176\n",
       "|    └─BasicBlock: 2-5                   --\n",
       "|    |    └─Conv2d: 3-21                 36,864\n",
       "|    |    └─BatchNorm2d: 3-22            128\n",
       "|    |    └─Conv2d: 3-23                 36,864\n",
       "|    |    └─BatchNorm2d: 3-24            128\n",
       "|    |    └─Sequential: 3-25             --\n",
       "|    └─BasicBlock: 2-6                   --\n",
       "|    |    └─Conv2d: 3-26                 36,864\n",
       "|    |    └─BatchNorm2d: 3-27            128\n",
       "|    |    └─Conv2d: 3-28                 36,864\n",
       "|    |    └─BatchNorm2d: 3-29            128\n",
       "|    |    └─Sequential: 3-30             --\n",
       "├─Sequential: 1-5                        --\n",
       "|    └─BasicBlock: 2-7                   --\n",
       "|    |    └─Conv2d: 3-31                 73,728\n",
       "|    |    └─BatchNorm2d: 3-32            256\n",
       "|    |    └─Conv2d: 3-33                 147,456\n",
       "|    |    └─BatchNorm2d: 3-34            256\n",
       "|    |    └─Sequential: 3-35             8,448\n",
       "|    └─BasicBlock: 2-8                   --\n",
       "|    |    └─Conv2d: 3-36                 147,456\n",
       "|    |    └─BatchNorm2d: 3-37            256\n",
       "|    |    └─Conv2d: 3-38                 147,456\n",
       "|    |    └─BatchNorm2d: 3-39            256\n",
       "|    |    └─Sequential: 3-40             --\n",
       "|    └─BasicBlock: 2-9                   --\n",
       "|    |    └─Conv2d: 3-41                 147,456\n",
       "|    |    └─BatchNorm2d: 3-42            256\n",
       "|    |    └─Conv2d: 3-43                 147,456\n",
       "|    |    └─BatchNorm2d: 3-44            256\n",
       "|    |    └─Sequential: 3-45             --\n",
       "├─Sequential: 1-6                        --\n",
       "|    └─BasicBlock: 2-10                  --\n",
       "|    |    └─Conv2d: 3-46                 294,912\n",
       "|    |    └─BatchNorm2d: 3-47            512\n",
       "|    |    └─Conv2d: 3-48                 589,824\n",
       "|    |    └─BatchNorm2d: 3-49            512\n",
       "|    |    └─Sequential: 3-50             33,280\n",
       "|    └─BasicBlock: 2-11                  --\n",
       "|    |    └─Conv2d: 3-51                 589,824\n",
       "|    |    └─BatchNorm2d: 3-52            512\n",
       "|    |    └─Conv2d: 3-53                 589,824\n",
       "|    |    └─BatchNorm2d: 3-54            512\n",
       "|    |    └─Sequential: 3-55             --\n",
       "|    └─BasicBlock: 2-12                  --\n",
       "|    |    └─Conv2d: 3-56                 589,824\n",
       "|    |    └─BatchNorm2d: 3-57            512\n",
       "|    |    └─Conv2d: 3-58                 589,824\n",
       "|    |    └─BatchNorm2d: 3-59            512\n",
       "|    |    └─Sequential: 3-60             --\n",
       "├─Linear: 1-7                            2,570\n",
       "=================================================================\n",
       "Total params: 4,366,250\n",
       "Trainable params: 4,366,250\n",
       "Non-trainable params: 0\n",
       "================================================================="
      ]
     },
     "execution_count": 18,
     "metadata": {},
     "output_type": "execute_result"
    }
   ],
   "execution_count": 18
  },
  {
   "cell_type": "markdown",
   "source": [
    "#### Now, Create a ModifiedResnet Model by changing the parameter values"
   ],
   "metadata": {
    "id": "UhR75pvWSlce"
   },
   "id": "UhR75pvWSlce"
  },
  {
   "cell_type": "code",
   "source": [],
   "metadata": {
    "id": "u2fqjhTISmik",
    "ExecuteTime": {
     "end_time": "2024-04-11T17:55:11.666014Z",
     "start_time": "2024-04-11T17:55:11.652015Z"
    }
   },
   "id": "u2fqjhTISmik",
   "outputs": [],
   "execution_count": 18
  },
  {
   "cell_type": "markdown",
   "source": [
    "#### Train the Model"
   ],
   "metadata": {
    "id": "q-RrQu02So3n"
   },
   "id": "q-RrQu02So3n"
  },
  {
   "cell_type": "code",
   "source": [
    "def train_model(model, train_dataloader, criterion, optimizer, epochs=10):\n",
    "    device = torch.device(\"cuda:0\" if torch.cuda.is_available() else \"cpu\")\n",
    "    model.to(device)\n",
    "    model.train()\n",
    "\n",
    "    for epoch in range(epochs):  # loop over the dataset multiple times\n",
    "        running_loss = 0.0\n",
    "        for i, data in enumerate(train_dataloader, 0):\n",
    "            # get the inputs; data is a list of [inputs, labels]\n",
    "            inputs, labels = data[0].to(device), data[1].to(device)\n",
    "\n",
    "            # zero the parameter gradients\n",
    "            optimizer.zero_grad()\n",
    "\n",
    "            # forward + backward + optimize\n",
    "            outputs = model(inputs)\n",
    "            loss = criterion(outputs, labels)\n",
    "            loss.backward()\n",
    "            optimizer.step()\n",
    "\n",
    "            # print statistics\n",
    "            running_loss += loss.item()\n",
    "            if i % 100 == 99:    # print every 100 mini-batches\n",
    "                print('[%d, %5d] loss: %.3f' %\n",
    "                      (epoch + 1, i + 1, running_loss / 100))\n",
    "                running_loss = 0.0\n",
    "\n",
    "    print('Finished Training')"
   ],
   "metadata": {
    "id": "Kt8pkyiVSpwn",
    "ExecuteTime": {
     "end_time": "2024-04-11T17:55:11.682016Z",
     "start_time": "2024-04-11T17:55:11.667015Z"
    }
   },
   "id": "Kt8pkyiVSpwn",
   "outputs": [],
   "execution_count": 19
  },
  {
   "metadata": {
    "ExecuteTime": {
     "end_time": "2024-04-11T18:18:15.226537Z",
     "start_time": "2024-04-11T18:13:30.031648Z"
    }
   },
   "cell_type": "code",
   "source": "train_model(model, train_dataloader, criterion, optimizer, epochs=50)",
   "id": "41be515f0cecd9f4",
   "outputs": [
    {
     "name": "stdout",
     "output_type": "stream",
     "text": [
      "[1,   100] loss: 0.034\n",
      "[1,   200] loss: 0.035\n",
      "[1,   300] loss: 0.038\n",
      "[2,   100] loss: 0.036\n",
      "[2,   200] loss: 0.038\n",
      "[2,   300] loss: 0.032\n",
      "[3,   100] loss: 0.030\n",
      "[3,   200] loss: 0.029\n",
      "[3,   300] loss: 0.032\n",
      "[4,   100] loss: 0.027\n",
      "[4,   200] loss: 0.026\n",
      "[4,   300] loss: 0.031\n",
      "[5,   100] loss: 0.030\n",
      "[5,   200] loss: 0.024\n",
      "[5,   300] loss: 0.029\n",
      "[6,   100] loss: 0.030\n",
      "[6,   200] loss: 0.027\n",
      "[6,   300] loss: 0.031\n",
      "[7,   100] loss: 0.031\n",
      "[7,   200] loss: 0.034\n",
      "[7,   300] loss: 0.034\n",
      "[8,   100] loss: 0.026\n",
      "[8,   200] loss: 0.025\n",
      "[8,   300] loss: 0.025\n",
      "[9,   100] loss: 0.028\n",
      "[9,   200] loss: 0.025\n",
      "[9,   300] loss: 0.029\n",
      "[10,   100] loss: 0.027\n",
      "[10,   200] loss: 0.026\n",
      "[10,   300] loss: 0.024\n",
      "[11,   100] loss: 0.023\n",
      "[11,   200] loss: 0.022\n",
      "[11,   300] loss: 0.026\n",
      "[12,   100] loss: 0.026\n",
      "[12,   200] loss: 0.028\n",
      "[12,   300] loss: 0.029\n",
      "[13,   100] loss: 0.023\n",
      "[13,   200] loss: 0.032\n",
      "[13,   300] loss: 0.032\n",
      "[14,   100] loss: 0.024\n",
      "[14,   200] loss: 0.024\n",
      "[14,   300] loss: 0.025\n",
      "[15,   100] loss: 0.019\n",
      "[15,   200] loss: 0.027\n",
      "[15,   300] loss: 0.025\n",
      "[16,   100] loss: 0.020\n",
      "[16,   200] loss: 0.025\n",
      "[16,   300] loss: 0.023\n",
      "[17,   100] loss: 0.020\n",
      "[17,   200] loss: 0.022\n",
      "[17,   300] loss: 0.028\n",
      "[18,   100] loss: 0.018\n",
      "[18,   200] loss: 0.022\n",
      "[18,   300] loss: 0.026\n",
      "[19,   100] loss: 0.021\n",
      "[19,   200] loss: 0.021\n",
      "[19,   300] loss: 0.025\n",
      "[20,   100] loss: 0.025\n",
      "[20,   200] loss: 0.017\n",
      "[20,   300] loss: 0.023\n",
      "Finished Training\n"
     ]
    }
   ],
   "execution_count": 34
  },
  {
   "cell_type": "markdown",
   "source": [
    "#### Evaluate the Model"
   ],
   "metadata": {
    "id": "T7BVL-MpSqS5"
   },
   "id": "T7BVL-MpSqS5"
  },
  {
   "cell_type": "code",
   "source": [
    "def evaluate_model(model, test_dataloader):\n",
    "    device = torch.device(\"cuda:0\" if torch.cuda.is_available() else \"cpu\")\n",
    "    model.to(device)\n",
    "    model.eval()\n",
    "\n",
    "    correct = 0\n",
    "    total = 0\n",
    "    with torch.no_grad():\n",
    "        for data in test_dataloader:\n",
    "            images, labels = data[0].to(device), data[1].to(device)\n",
    "            outputs = model(images)\n",
    "            _, predicted = torch.max(outputs.data, 1)\n",
    "            total += labels.size(0)\n",
    "            correct += (predicted == labels).sum().item()\n",
    "\n",
    "    print('Accuracy of the network on the 10000 test images: %d %%' % (\n",
    "        100 * correct / total))"
   ],
   "metadata": {
    "id": "UD3yv1PFSskP",
    "ExecuteTime": {
     "end_time": "2024-04-11T18:12:57.889878Z",
     "start_time": "2024-04-11T18:12:57.871521Z"
    }
   },
   "id": "UD3yv1PFSskP",
   "outputs": [],
   "execution_count": 31
  },
  {
   "metadata": {
    "ExecuteTime": {
     "end_time": "2024-04-11T18:22:48.338585Z",
     "start_time": "2024-04-11T18:22:42.779084Z"
    }
   },
   "cell_type": "code",
   "source": "evaluate_model(model, test_dataloader)",
   "id": "4a60342d18a79464",
   "outputs": [
    {
     "name": "stdout",
     "output_type": "stream",
     "text": [
      "Accuracy of the network on the 10000 test images: 91 %\n"
     ]
    }
   ],
   "execution_count": 35
  },
  {
   "metadata": {
    "ExecuteTime": {
     "end_time": "2024-04-11T18:27:03.007310Z",
     "start_time": "2024-04-11T18:27:02.977800Z"
    }
   },
   "cell_type": "code",
   "source": "torch.save(model.state_dict(), 'model5M_91.pt')",
   "id": "b631d74f766889fe",
   "outputs": [],
   "execution_count": 36
  },
  {
   "metadata": {},
   "cell_type": "markdown",
   "source": "#### Kaggle submission",
   "id": "9ea1737d1a17338b"
  },
  {
   "metadata": {
    "ExecuteTime": {
     "end_time": "2024-04-11T18:27:16.066230Z",
     "start_time": "2024-04-11T18:27:16.059716Z"
    }
   },
   "cell_type": "code",
   "source": [
    "transform_nolabel_data = transforms.Compose([ transforms.ToTensor(),\n",
    "    transforms.Normalize((0.4914, 0.4822, 0.4465), (0.2023, 0.1994, 0.2010)), ])\n"
   ],
   "id": "d42298afec91861a",
   "outputs": [],
   "execution_count": 37
  },
  {
   "metadata": {
    "ExecuteTime": {
     "end_time": "2024-04-11T18:27:16.611666Z",
     "start_time": "2024-04-11T18:27:16.593154Z"
    }
   },
   "cell_type": "code",
   "source": [
    "import csv\n",
    "\n",
    "def generate_submission_csv(model, cifar_nolabels):\n",
    "    device = torch.device(\"cuda:0\" if torch.cuda.is_available() else \"cpu\")\n",
    "    model.to(device)\n",
    "    model.eval()\n",
    "    with torch.no_grad():\n",
    "        images = cifar_nolabels[b'data'].reshape((-1, 3, 32, 32)) \n",
    "        images = np.transpose(images, (0,2,3,1))\n",
    "        img_tensor = torch.stack([transform_nolabel_data(img) for img in images]).float().to(device)\n",
    "        outputs = model(img_tensor)\n",
    "        _, predicted = torch.max(outputs.data, 1)\n",
    "    \n",
    "    predTuple = list(zip(cifar_nolabels[b'ids'],predicted.cpu().numpy()))\n",
    "\n",
    "    with open('predictions.csv','w',newline='') as out:\n",
    "        csv_out=csv.writer(out)\n",
    "        csv_out.writerow(['ID','Labels'])\n",
    "        csv_out.writerows(predTuple)\n",
    "        "
   ],
   "id": "1ceaf12002482624",
   "outputs": [],
   "execution_count": 38
  },
  {
   "metadata": {
    "ExecuteTime": {
     "end_time": "2024-04-11T18:27:20.793427Z",
     "start_time": "2024-04-11T18:27:19.398859Z"
    }
   },
   "cell_type": "code",
   "source": [
    "import pickle\n",
    "def load_cifar_batch(file):\n",
    "    with open(file, 'rb') as fo:\n",
    "        dict = pickle.load(fo, encoding='bytes')\n",
    "    return dict\n",
    "\n",
    "cifar_nolabels = load_cifar_batch('./data/cifar_test_nolabels.pkl')\n",
    "generate_submission_csv(model, cifar_nolabels)"
   ],
   "id": "493a365149f6d729",
   "outputs": [],
   "execution_count": 39
  },
  {
   "cell_type": "markdown",
   "source": [
    "#### Plot the Accuracy of this Model"
   ],
   "metadata": {
    "id": "3eJQUl1vStFL"
   },
   "id": "3eJQUl1vStFL"
  },
  {
   "cell_type": "code",
   "source": [],
   "metadata": {
    "id": "U81T3Wl9SwJd",
    "ExecuteTime": {
     "end_time": "2024-04-11T18:07:16.608930Z",
     "start_time": "2024-04-11T18:07:16.595930Z"
    }
   },
   "id": "U81T3Wl9SwJd",
   "outputs": [],
   "execution_count": 26
  }
 ],
 "metadata": {
  "kaggle": {
   "accelerator": "none",
   "dataSources": [
    {
     "databundleVersionId": 8088488,
     "sourceId": 73233,
     "sourceType": "competition"
    }
   ],
   "dockerImageVersionId": 30673,
   "isGpuEnabled": false,
   "isInternetEnabled": true,
   "language": "python",
   "sourceType": "notebook"
  },
  "kernelspec": {
   "display_name": "Python 3 (ipykernel)",
   "name": "python3",
   "language": "python"
  },
  "language_info": {
   "codemirror_mode": {
    "name": "ipython",
    "version": 3
   },
   "file_extension": ".py",
   "mimetype": "text/x-python",
   "name": "python",
   "nbconvert_exporter": "python",
   "pygments_lexer": "ipython3",
   "version": "3.10.13"
  },
  "papermill": {
   "default_parameters": {},
   "duration": 8.271458,
   "end_time": "2024-03-30T01:00:39.910637",
   "environment_variables": {},
   "exception": null,
   "input_path": "__notebook__.ipynb",
   "output_path": "__notebook__.ipynb",
   "parameters": {},
   "start_time": "2024-03-30T01:00:31.639179",
   "version": "2.5.0"
  },
  "colab": {
   "provenance": [],
   "gpuType": "T4"
  },
  "accelerator": "GPU"
 },
 "nbformat": 4,
 "nbformat_minor": 5
}
